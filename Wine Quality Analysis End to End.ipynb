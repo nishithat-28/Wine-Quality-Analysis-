{
 "cells": [
  {
   "cell_type": "code",
   "execution_count": 1,
   "id": "3edb4dfe-0957-4fe3-9e4f-74c86e9c937d",
   "metadata": {},
   "outputs": [
    {
     "data": {
      "text/html": [
       "<div>\n",
       "<style scoped>\n",
       "    .dataframe tbody tr th:only-of-type {\n",
       "        vertical-align: middle;\n",
       "    }\n",
       "\n",
       "    .dataframe tbody tr th {\n",
       "        vertical-align: top;\n",
       "    }\n",
       "\n",
       "    .dataframe thead th {\n",
       "        text-align: right;\n",
       "    }\n",
       "</style>\n",
       "<table border=\"1\" class=\"dataframe\">\n",
       "  <thead>\n",
       "    <tr style=\"text-align: right;\">\n",
       "      <th></th>\n",
       "      <th>fixed acidity</th>\n",
       "      <th>volatile acidity</th>\n",
       "      <th>citric acid</th>\n",
       "      <th>residual sugar</th>\n",
       "      <th>chlorides</th>\n",
       "      <th>free sulfur dioxide</th>\n",
       "      <th>total sulfur dioxide</th>\n",
       "      <th>density</th>\n",
       "      <th>pH</th>\n",
       "      <th>sulphates</th>\n",
       "      <th>alcohol</th>\n",
       "      <th>quality</th>\n",
       "    </tr>\n",
       "  </thead>\n",
       "  <tbody>\n",
       "    <tr>\n",
       "      <th>0</th>\n",
       "      <td>7.4</td>\n",
       "      <td>0.700</td>\n",
       "      <td>0.00</td>\n",
       "      <td>1.9</td>\n",
       "      <td>0.076</td>\n",
       "      <td>11.0</td>\n",
       "      <td>34.0</td>\n",
       "      <td>0.99780</td>\n",
       "      <td>3.51</td>\n",
       "      <td>0.56</td>\n",
       "      <td>9.4</td>\n",
       "      <td>5</td>\n",
       "    </tr>\n",
       "    <tr>\n",
       "      <th>1</th>\n",
       "      <td>7.8</td>\n",
       "      <td>0.880</td>\n",
       "      <td>0.00</td>\n",
       "      <td>2.6</td>\n",
       "      <td>0.098</td>\n",
       "      <td>25.0</td>\n",
       "      <td>67.0</td>\n",
       "      <td>0.99680</td>\n",
       "      <td>3.20</td>\n",
       "      <td>0.68</td>\n",
       "      <td>9.8</td>\n",
       "      <td>5</td>\n",
       "    </tr>\n",
       "    <tr>\n",
       "      <th>2</th>\n",
       "      <td>7.8</td>\n",
       "      <td>0.760</td>\n",
       "      <td>0.04</td>\n",
       "      <td>2.3</td>\n",
       "      <td>0.092</td>\n",
       "      <td>15.0</td>\n",
       "      <td>54.0</td>\n",
       "      <td>0.99700</td>\n",
       "      <td>3.26</td>\n",
       "      <td>0.65</td>\n",
       "      <td>9.8</td>\n",
       "      <td>5</td>\n",
       "    </tr>\n",
       "    <tr>\n",
       "      <th>3</th>\n",
       "      <td>11.2</td>\n",
       "      <td>0.280</td>\n",
       "      <td>0.56</td>\n",
       "      <td>1.9</td>\n",
       "      <td>0.075</td>\n",
       "      <td>17.0</td>\n",
       "      <td>60.0</td>\n",
       "      <td>0.99800</td>\n",
       "      <td>3.16</td>\n",
       "      <td>0.58</td>\n",
       "      <td>9.8</td>\n",
       "      <td>6</td>\n",
       "    </tr>\n",
       "    <tr>\n",
       "      <th>4</th>\n",
       "      <td>7.4</td>\n",
       "      <td>0.700</td>\n",
       "      <td>0.00</td>\n",
       "      <td>1.9</td>\n",
       "      <td>0.076</td>\n",
       "      <td>11.0</td>\n",
       "      <td>34.0</td>\n",
       "      <td>0.99780</td>\n",
       "      <td>3.51</td>\n",
       "      <td>0.56</td>\n",
       "      <td>9.4</td>\n",
       "      <td>5</td>\n",
       "    </tr>\n",
       "    <tr>\n",
       "      <th>...</th>\n",
       "      <td>...</td>\n",
       "      <td>...</td>\n",
       "      <td>...</td>\n",
       "      <td>...</td>\n",
       "      <td>...</td>\n",
       "      <td>...</td>\n",
       "      <td>...</td>\n",
       "      <td>...</td>\n",
       "      <td>...</td>\n",
       "      <td>...</td>\n",
       "      <td>...</td>\n",
       "      <td>...</td>\n",
       "    </tr>\n",
       "    <tr>\n",
       "      <th>1594</th>\n",
       "      <td>6.2</td>\n",
       "      <td>0.600</td>\n",
       "      <td>0.08</td>\n",
       "      <td>2.0</td>\n",
       "      <td>0.090</td>\n",
       "      <td>32.0</td>\n",
       "      <td>44.0</td>\n",
       "      <td>0.99490</td>\n",
       "      <td>3.45</td>\n",
       "      <td>0.58</td>\n",
       "      <td>10.5</td>\n",
       "      <td>5</td>\n",
       "    </tr>\n",
       "    <tr>\n",
       "      <th>1595</th>\n",
       "      <td>5.9</td>\n",
       "      <td>0.550</td>\n",
       "      <td>0.10</td>\n",
       "      <td>2.2</td>\n",
       "      <td>0.062</td>\n",
       "      <td>39.0</td>\n",
       "      <td>51.0</td>\n",
       "      <td>0.99512</td>\n",
       "      <td>3.52</td>\n",
       "      <td>0.76</td>\n",
       "      <td>11.2</td>\n",
       "      <td>6</td>\n",
       "    </tr>\n",
       "    <tr>\n",
       "      <th>1596</th>\n",
       "      <td>6.3</td>\n",
       "      <td>0.510</td>\n",
       "      <td>0.13</td>\n",
       "      <td>2.3</td>\n",
       "      <td>0.076</td>\n",
       "      <td>29.0</td>\n",
       "      <td>40.0</td>\n",
       "      <td>0.99574</td>\n",
       "      <td>3.42</td>\n",
       "      <td>0.75</td>\n",
       "      <td>11.0</td>\n",
       "      <td>6</td>\n",
       "    </tr>\n",
       "    <tr>\n",
       "      <th>1597</th>\n",
       "      <td>5.9</td>\n",
       "      <td>0.645</td>\n",
       "      <td>0.12</td>\n",
       "      <td>2.0</td>\n",
       "      <td>0.075</td>\n",
       "      <td>32.0</td>\n",
       "      <td>44.0</td>\n",
       "      <td>0.99547</td>\n",
       "      <td>3.57</td>\n",
       "      <td>0.71</td>\n",
       "      <td>10.2</td>\n",
       "      <td>5</td>\n",
       "    </tr>\n",
       "    <tr>\n",
       "      <th>1598</th>\n",
       "      <td>6.0</td>\n",
       "      <td>0.310</td>\n",
       "      <td>0.47</td>\n",
       "      <td>3.6</td>\n",
       "      <td>0.067</td>\n",
       "      <td>18.0</td>\n",
       "      <td>42.0</td>\n",
       "      <td>0.99549</td>\n",
       "      <td>3.39</td>\n",
       "      <td>0.66</td>\n",
       "      <td>11.0</td>\n",
       "      <td>6</td>\n",
       "    </tr>\n",
       "  </tbody>\n",
       "</table>\n",
       "<p>1599 rows × 12 columns</p>\n",
       "</div>"
      ],
      "text/plain": [
       "      fixed acidity  volatile acidity  citric acid  residual sugar  chlorides  \\\n",
       "0               7.4             0.700         0.00             1.9      0.076   \n",
       "1               7.8             0.880         0.00             2.6      0.098   \n",
       "2               7.8             0.760         0.04             2.3      0.092   \n",
       "3              11.2             0.280         0.56             1.9      0.075   \n",
       "4               7.4             0.700         0.00             1.9      0.076   \n",
       "...             ...               ...          ...             ...        ...   \n",
       "1594            6.2             0.600         0.08             2.0      0.090   \n",
       "1595            5.9             0.550         0.10             2.2      0.062   \n",
       "1596            6.3             0.510         0.13             2.3      0.076   \n",
       "1597            5.9             0.645         0.12             2.0      0.075   \n",
       "1598            6.0             0.310         0.47             3.6      0.067   \n",
       "\n",
       "      free sulfur dioxide  total sulfur dioxide  density    pH  sulphates  \\\n",
       "0                    11.0                  34.0  0.99780  3.51       0.56   \n",
       "1                    25.0                  67.0  0.99680  3.20       0.68   \n",
       "2                    15.0                  54.0  0.99700  3.26       0.65   \n",
       "3                    17.0                  60.0  0.99800  3.16       0.58   \n",
       "4                    11.0                  34.0  0.99780  3.51       0.56   \n",
       "...                   ...                   ...      ...   ...        ...   \n",
       "1594                 32.0                  44.0  0.99490  3.45       0.58   \n",
       "1595                 39.0                  51.0  0.99512  3.52       0.76   \n",
       "1596                 29.0                  40.0  0.99574  3.42       0.75   \n",
       "1597                 32.0                  44.0  0.99547  3.57       0.71   \n",
       "1598                 18.0                  42.0  0.99549  3.39       0.66   \n",
       "\n",
       "      alcohol  quality  \n",
       "0         9.4        5  \n",
       "1         9.8        5  \n",
       "2         9.8        5  \n",
       "3         9.8        6  \n",
       "4         9.4        5  \n",
       "...       ...      ...  \n",
       "1594     10.5        5  \n",
       "1595     11.2        6  \n",
       "1596     11.0        6  \n",
       "1597     10.2        5  \n",
       "1598     11.0        6  \n",
       "\n",
       "[1599 rows x 12 columns]"
      ]
     },
     "execution_count": 1,
     "metadata": {},
     "output_type": "execute_result"
    }
   ],
   "source": [
    "import pandas as pd\n",
    "\n",
    "data=pd.read_csv(r\"C:\\Users\\Nishitha T\\OneDrive\\Documents\\NareshIT\\Data Files\\winequality_red.csv\")\n",
    "data"
   ]
  },
  {
   "cell_type": "code",
   "execution_count": 4,
   "id": "125e5ea6-0614-4187-bcdc-3d5ca8cbdc43",
   "metadata": {},
   "outputs": [
    {
     "data": {
      "text/plain": [
       "quality\n",
       "5    681\n",
       "6    638\n",
       "7    199\n",
       "4     53\n",
       "8     18\n",
       "3     10\n",
       "Name: count, dtype: int64"
      ]
     },
     "execution_count": 4,
     "metadata": {},
     "output_type": "execute_result"
    }
   ],
   "source": [
    "data['quality'].value_counts()"
   ]
  },
  {
   "cell_type": "markdown",
   "id": "81aabf95-f26f-45ea-968f-40ad6d3fb377",
   "metadata": {},
   "source": [
    "**Seperate Input and Target Featues**"
   ]
  },
  {
   "cell_type": "code",
   "execution_count": 5,
   "id": "6eb3667b-6b50-4469-83ca-1016e540c82d",
   "metadata": {},
   "outputs": [],
   "source": [
    "X=data.drop('quality',axis=1) # dataframe\n",
    "y=data['quality']  # series type"
   ]
  },
  {
   "cell_type": "code",
   "execution_count": 6,
   "id": "94d76c0d-fb16-4a83-a552-5ab8f742bfcd",
   "metadata": {},
   "outputs": [
    {
     "data": {
      "text/plain": [
       "array([0.02949982, 0.12607911, 0.05435916, 0.02227736, 0.04551513,\n",
       "       0.01412129, 0.07847714, 0.07898719, 0.01584641, 0.08988357,\n",
       "       0.17898534])"
      ]
     },
     "execution_count": 6,
     "metadata": {},
     "output_type": "execute_result"
    }
   ],
   "source": [
    "from sklearn.feature_selection import mutual_info_classif\n",
    "\n",
    "MI=mutual_info_classif(X,y)\n",
    "MI"
   ]
  },
  {
   "cell_type": "code",
   "execution_count": 7,
   "id": "5eb85e3d-a47e-46f2-b972-e3b311cf5a2d",
   "metadata": {},
   "outputs": [
    {
     "data": {
      "text/html": [
       "<div>\n",
       "<style scoped>\n",
       "    .dataframe tbody tr th:only-of-type {\n",
       "        vertical-align: middle;\n",
       "    }\n",
       "\n",
       "    .dataframe tbody tr th {\n",
       "        vertical-align: top;\n",
       "    }\n",
       "\n",
       "    .dataframe thead th {\n",
       "        text-align: right;\n",
       "    }\n",
       "</style>\n",
       "<table border=\"1\" class=\"dataframe\">\n",
       "  <thead>\n",
       "    <tr style=\"text-align: right;\">\n",
       "      <th></th>\n",
       "      <th>Information gain</th>\n",
       "    </tr>\n",
       "  </thead>\n",
       "  <tbody>\n",
       "    <tr>\n",
       "      <th>alcohol</th>\n",
       "      <td>0.178985</td>\n",
       "    </tr>\n",
       "    <tr>\n",
       "      <th>volatile acidity</th>\n",
       "      <td>0.126079</td>\n",
       "    </tr>\n",
       "    <tr>\n",
       "      <th>sulphates</th>\n",
       "      <td>0.089884</td>\n",
       "    </tr>\n",
       "    <tr>\n",
       "      <th>density</th>\n",
       "      <td>0.078987</td>\n",
       "    </tr>\n",
       "    <tr>\n",
       "      <th>total sulfur dioxide</th>\n",
       "      <td>0.078477</td>\n",
       "    </tr>\n",
       "    <tr>\n",
       "      <th>citric acid</th>\n",
       "      <td>0.054359</td>\n",
       "    </tr>\n",
       "    <tr>\n",
       "      <th>chlorides</th>\n",
       "      <td>0.045515</td>\n",
       "    </tr>\n",
       "    <tr>\n",
       "      <th>fixed acidity</th>\n",
       "      <td>0.029500</td>\n",
       "    </tr>\n",
       "    <tr>\n",
       "      <th>residual sugar</th>\n",
       "      <td>0.022277</td>\n",
       "    </tr>\n",
       "    <tr>\n",
       "      <th>pH</th>\n",
       "      <td>0.015846</td>\n",
       "    </tr>\n",
       "    <tr>\n",
       "      <th>free sulfur dioxide</th>\n",
       "      <td>0.014121</td>\n",
       "    </tr>\n",
       "  </tbody>\n",
       "</table>\n",
       "</div>"
      ],
      "text/plain": [
       "                      Information gain\n",
       "alcohol                       0.178985\n",
       "volatile acidity              0.126079\n",
       "sulphates                     0.089884\n",
       "density                       0.078987\n",
       "total sulfur dioxide          0.078477\n",
       "citric acid                   0.054359\n",
       "chlorides                     0.045515\n",
       "fixed acidity                 0.029500\n",
       "residual sugar                0.022277\n",
       "pH                            0.015846\n",
       "free sulfur dioxide           0.014121"
      ]
     },
     "execution_count": 7,
     "metadata": {},
     "output_type": "execute_result"
    }
   ],
   "source": [
    "d=pd.DataFrame(MI,\n",
    "               columns=['Information gain'],\n",
    "              index=X.columns)\n",
    "d.sort_values('Information gain',ascending=False)\n",
    "\n",
    "               "
   ]
  },
  {
   "cell_type": "code",
   "execution_count": 8,
   "id": "a895389d-0d59-4631-8793-d76866d899f8",
   "metadata": {},
   "outputs": [
    {
     "data": {
      "text/plain": [
       "<Axes: >"
      ]
     },
     "execution_count": 8,
     "metadata": {},
     "output_type": "execute_result"
    },
    {
     "data": {
      "image/png": "[encoded data removed]",
      "text/plain": [
       "<Figure size 640x480 with 1 Axes>"
      ]
     },
     "metadata": {},
     "output_type": "display_data"
    }
   ],
   "source": [
    "d.sort_values('Information gain',ascending=False).plot(kind='bar')"
   ]
  },
  {
   "cell_type": "code",
   "execution_count": 9,
   "id": "8eb8baa1-c6f7-4c43-a8cf-0b2f9f8ca5f5",
   "metadata": {},
   "outputs": [],
   "source": [
    "from sklearn.feature_selection import SelectKBest,mutual_info_classif\n",
    "\n",
    "top_5=SelectKBest(mutual_info_classif,k=6)\n",
    "val=top_5.fit(X,y)"
   ]
  },
  {
   "cell_type": "code",
   "execution_count": 10,
   "id": "1e2dfff5-b4f1-4d43-97fe-acc40b744979",
   "metadata": {},
   "outputs": [
    {
     "data": {
      "text/plain": [
       "array([False,  True,  True, False, False, False,  True,  True, False,\n",
       "        True,  True])"
      ]
     },
     "execution_count": 10,
     "metadata": {},
     "output_type": "execute_result"
    }
   ],
   "source": [
    "val.get_support()"
   ]
  },
  {
   "cell_type": "code",
   "execution_count": 11,
   "id": "01721d64-d3b0-4118-8238-bbe4f62b6b0b",
   "metadata": {},
   "outputs": [
    {
     "data": {
      "text/plain": [
       "array(['volatile acidity', 'citric acid', 'total sulfur dioxide',\n",
       "       'density', 'sulphates', 'alcohol'], dtype=object)"
      ]
     },
     "execution_count": 11,
     "metadata": {},
     "output_type": "execute_result"
    }
   ],
   "source": [
    "val.get_feature_names_out()"
   ]
  },
  {
   "cell_type": "code",
   "execution_count": 12,
   "id": "edc67347-2be1-4ab3-b67e-80e4ec0d8ad5",
   "metadata": {},
   "outputs": [
    {
     "data": {
      "text/html": [
       "<div>\n",
       "<style scoped>\n",
       "    .dataframe tbody tr th:only-of-type {\n",
       "        vertical-align: middle;\n",
       "    }\n",
       "\n",
       "    .dataframe tbody tr th {\n",
       "        vertical-align: top;\n",
       "    }\n",
       "\n",
       "    .dataframe thead th {\n",
       "        text-align: right;\n",
       "    }\n",
       "</style>\n",
       "<table border=\"1\" class=\"dataframe\">\n",
       "  <thead>\n",
       "    <tr style=\"text-align: right;\">\n",
       "      <th></th>\n",
       "      <th>volatile acidity</th>\n",
       "      <th>chlorides</th>\n",
       "      <th>total sulfur dioxide</th>\n",
       "      <th>density</th>\n",
       "      <th>sulphates</th>\n",
       "      <th>alcohol</th>\n",
       "    </tr>\n",
       "  </thead>\n",
       "  <tbody>\n",
       "    <tr>\n",
       "      <th>0</th>\n",
       "      <td>0.700</td>\n",
       "      <td>0.076</td>\n",
       "      <td>34.0</td>\n",
       "      <td>0.99780</td>\n",
       "      <td>0.56</td>\n",
       "      <td>9.4</td>\n",
       "    </tr>\n",
       "    <tr>\n",
       "      <th>1</th>\n",
       "      <td>0.880</td>\n",
       "      <td>0.098</td>\n",
       "      <td>67.0</td>\n",
       "      <td>0.99680</td>\n",
       "      <td>0.68</td>\n",
       "      <td>9.8</td>\n",
       "    </tr>\n",
       "    <tr>\n",
       "      <th>2</th>\n",
       "      <td>0.760</td>\n",
       "      <td>0.092</td>\n",
       "      <td>54.0</td>\n",
       "      <td>0.99700</td>\n",
       "      <td>0.65</td>\n",
       "      <td>9.8</td>\n",
       "    </tr>\n",
       "    <tr>\n",
       "      <th>3</th>\n",
       "      <td>0.280</td>\n",
       "      <td>0.075</td>\n",
       "      <td>60.0</td>\n",
       "      <td>0.99800</td>\n",
       "      <td>0.58</td>\n",
       "      <td>9.8</td>\n",
       "    </tr>\n",
       "    <tr>\n",
       "      <th>4</th>\n",
       "      <td>0.700</td>\n",
       "      <td>0.076</td>\n",
       "      <td>34.0</td>\n",
       "      <td>0.99780</td>\n",
       "      <td>0.56</td>\n",
       "      <td>9.4</td>\n",
       "    </tr>\n",
       "    <tr>\n",
       "      <th>...</th>\n",
       "      <td>...</td>\n",
       "      <td>...</td>\n",
       "      <td>...</td>\n",
       "      <td>...</td>\n",
       "      <td>...</td>\n",
       "      <td>...</td>\n",
       "    </tr>\n",
       "    <tr>\n",
       "      <th>1594</th>\n",
       "      <td>0.600</td>\n",
       "      <td>0.090</td>\n",
       "      <td>44.0</td>\n",
       "      <td>0.99490</td>\n",
       "      <td>0.58</td>\n",
       "      <td>10.5</td>\n",
       "    </tr>\n",
       "    <tr>\n",
       "      <th>1595</th>\n",
       "      <td>0.550</td>\n",
       "      <td>0.062</td>\n",
       "      <td>51.0</td>\n",
       "      <td>0.99512</td>\n",
       "      <td>0.76</td>\n",
       "      <td>11.2</td>\n",
       "    </tr>\n",
       "    <tr>\n",
       "      <th>1596</th>\n",
       "      <td>0.510</td>\n",
       "      <td>0.076</td>\n",
       "      <td>40.0</td>\n",
       "      <td>0.99574</td>\n",
       "      <td>0.75</td>\n",
       "      <td>11.0</td>\n",
       "    </tr>\n",
       "    <tr>\n",
       "      <th>1597</th>\n",
       "      <td>0.645</td>\n",
       "      <td>0.075</td>\n",
       "      <td>44.0</td>\n",
       "      <td>0.99547</td>\n",
       "      <td>0.71</td>\n",
       "      <td>10.2</td>\n",
       "    </tr>\n",
       "    <tr>\n",
       "      <th>1598</th>\n",
       "      <td>0.310</td>\n",
       "      <td>0.067</td>\n",
       "      <td>42.0</td>\n",
       "      <td>0.99549</td>\n",
       "      <td>0.66</td>\n",
       "      <td>11.0</td>\n",
       "    </tr>\n",
       "  </tbody>\n",
       "</table>\n",
       "<p>1599 rows × 6 columns</p>\n",
       "</div>"
      ],
      "text/plain": [
       "      volatile acidity  chlorides  total sulfur dioxide  density  sulphates  \\\n",
       "0                0.700      0.076                  34.0  0.99780       0.56   \n",
       "1                0.880      0.098                  67.0  0.99680       0.68   \n",
       "2                0.760      0.092                  54.0  0.99700       0.65   \n",
       "3                0.280      0.075                  60.0  0.99800       0.58   \n",
       "4                0.700      0.076                  34.0  0.99780       0.56   \n",
       "...                ...        ...                   ...      ...        ...   \n",
       "1594             0.600      0.090                  44.0  0.99490       0.58   \n",
       "1595             0.550      0.062                  51.0  0.99512       0.76   \n",
       "1596             0.510      0.076                  40.0  0.99574       0.75   \n",
       "1597             0.645      0.075                  44.0  0.99547       0.71   \n",
       "1598             0.310      0.067                  42.0  0.99549       0.66   \n",
       "\n",
       "      alcohol  \n",
       "0         9.4  \n",
       "1         9.8  \n",
       "2         9.8  \n",
       "3         9.8  \n",
       "4         9.4  \n",
       "...       ...  \n",
       "1594     10.5  \n",
       "1595     11.2  \n",
       "1596     11.0  \n",
       "1597     10.2  \n",
       "1598     11.0  \n",
       "\n",
       "[1599 rows x 6 columns]"
      ]
     },
     "execution_count": 12,
     "metadata": {},
     "output_type": "execute_result"
    }
   ],
   "source": [
    "features=['volatile acidity', 'chlorides', 'total sulfur dioxide', 'density',\n",
    "       'sulphates', 'alcohol']\n",
    "df=pd.DataFrame()\n",
    "df=data[features]\n",
    "df"
   ]
  },
  {
   "cell_type": "code",
   "execution_count": 13,
   "id": "be6deb4b-975c-470d-aa1b-d1d84c83ab63",
   "metadata": {},
   "outputs": [],
   "source": [
    "X = df"
   ]
  },
  {
   "cell_type": "code",
   "execution_count": 14,
   "id": "839262da-4ac0-40c0-a7bd-d205a52dc888",
   "metadata": {},
   "outputs": [],
   "source": [
    "from sklearn.model_selection import train_test_split\n",
    "X_train, X_test,y_train, y_test = train_test_split(X, y, test_size=0.2, random_state=42)"
   ]
  },
  {
   "cell_type": "code",
   "execution_count": 15,
   "id": "f3f55298-e78a-47ac-ac32-3217b7b9fe66",
   "metadata": {},
   "outputs": [
    {
     "data": {
      "text/plain": [
       "((1279, 6), (320, 6))"
      ]
     },
     "execution_count": 15,
     "metadata": {},
     "output_type": "execute_result"
    }
   ],
   "source": [
    "X_train.shape,X_test.shape"
   ]
  },
  {
   "cell_type": "code",
   "execution_count": 16,
   "id": "17cd3d7e-6117-411e-be80-32b0c54db7d1",
   "metadata": {},
   "outputs": [
    {
     "data": {
      "text/html": [
       "<style>#sk-container-id-1 {color: black;background-color: white;}#sk-container-id-1 pre{padding: 0;}#sk-container-id-1 div.sk-toggleable {background-color: white;}#sk-container-id-1 label.sk-toggleable__label {cursor: pointer;display: block;width: 100%;margin-bottom: 0;padding: 0.3em;box-sizing: border-box;text-align: center;}#sk-container-id-1 label.sk-toggleable__label-arrow:before {content: \"▸\";float: left;margin-right: 0.25em;color: #696969;}#sk-container-id-1 label.sk-toggleable__label-arrow:hover:before {color: black;}#sk-container-id-1 div.sk-estimator:hover label.sk-toggleable__label-arrow:before {color: black;}#sk-container-id-1 div.sk-toggleable__content {max-height: 0;max-width: 0;overflow: hidden;text-align: left;background-color: #f0f8ff;}#sk-container-id-1 div.sk-toggleable__content pre {margin: 0.2em;color: black;border-radius: 0.25em;background-color: #f0f8ff;}#sk-container-id-1 input.sk-toggleable__control:checked~div.sk-toggleable__content {max-height: 200px;max-width: 100%;overflow: auto;}#sk-container-id-1 input.sk-toggleable__control:checked~label.sk-toggleable__label-arrow:before {content: \"▾\";}#sk-container-id-1 div.sk-estimator input.sk-toggleable__control:checked~label.sk-toggleable__label {background-color: #d4ebff;}#sk-container-id-1 div.sk-label input.sk-toggleable__control:checked~label.sk-toggleable__label {background-color: #d4ebff;}#sk-container-id-1 input.sk-hidden--visually {border: 0;clip: rect(1px 1px 1px 1px);clip: rect(1px, 1px, 1px, 1px);height: 1px;margin: -1px;overflow: hidden;padding: 0;position: absolute;width: 1px;}#sk-container-id-1 div.sk-estimator {font-family: monospace;background-color: #f0f8ff;border: 1px dotted black;border-radius: 0.25em;box-sizing: border-box;margin-bottom: 0.5em;}#sk-container-id-1 div.sk-estimator:hover {background-color: #d4ebff;}#sk-container-id-1 div.sk-parallel-item::after {content: \"\";width: 100%;border-bottom: 1px solid gray;flex-grow: 1;}#sk-container-id-1 div.sk-label:hover label.sk-toggleable__label {background-color: #d4ebff;}#sk-container-id-1 div.sk-serial::before {content: \"\";position: absolute;border-left: 1px solid gray;box-sizing: border-box;top: 0;bottom: 0;left: 50%;z-index: 0;}#sk-container-id-1 div.sk-serial {display: flex;flex-direction: column;align-items: center;background-color: white;padding-right: 0.2em;padding-left: 0.2em;position: relative;}#sk-container-id-1 div.sk-item {position: relative;z-index: 1;}#sk-container-id-1 div.sk-parallel {display: flex;align-items: stretch;justify-content: center;background-color: white;position: relative;}#sk-container-id-1 div.sk-item::before, #sk-container-id-1 div.sk-parallel-item::before {content: \"\";position: absolute;border-left: 1px solid gray;box-sizing: border-box;top: 0;bottom: 0;left: 50%;z-index: -1;}#sk-container-id-1 div.sk-parallel-item {display: flex;flex-direction: column;z-index: 1;position: relative;background-color: white;}#sk-container-id-1 div.sk-parallel-item:first-child::after {align-self: flex-end;width: 50%;}#sk-container-id-1 div.sk-parallel-item:last-child::after {align-self: flex-start;width: 50%;}#sk-container-id-1 div.sk-parallel-item:only-child::after {width: 0;}#sk-container-id-1 div.sk-dashed-wrapped {border: 1px dashed gray;margin: 0 0.4em 0.5em 0.4em;box-sizing: border-box;padding-bottom: 0.4em;background-color: white;}#sk-container-id-1 div.sk-label label {font-family: monospace;font-weight: bold;display: inline-block;line-height: 1.2em;}#sk-container-id-1 div.sk-label-container {text-align: center;}#sk-container-id-1 div.sk-container {/* jupyter's `normalize.less` sets `[hidden] { display: none; }` but bootstrap.min.css set `[hidden] { display: none !important; }` so we also need the `!important` here to be able to override the default hidden behavior on the sphinx rendered scikit-learn.org. See: https://github.com/scikit-learn/scikit-learn/issues/21755 */display: inline-block !important;position: relative;}#sk-container-id-1 div.sk-text-repr-fallback {display: none;}</style><div id=\"sk-container-id-1\" class=\"sk-top-container\"><div class=\"sk-text-repr-fallback\"><pre>LinearRegression()</pre><b>In a Jupyter environment, please rerun this cell to show the HTML representation or trust the notebook. <br />On GitHub, the HTML representation is unable to render, please try loading this page with nbviewer.org.</b></div><div class=\"sk-container\" hidden><div class=\"sk-item\"><div class=\"sk-estimator sk-toggleable\"><input class=\"sk-toggleable__control sk-hidden--visually\" id=\"sk-estimator-id-1\" type=\"checkbox\" checked><label for=\"sk-estimator-id-1\" class=\"sk-toggleable__label sk-toggleable__label-arrow\">LinearRegression</label><div class=\"sk-toggleable__content\"><pre>LinearRegression()</pre></div></div></div></div></div>"
      ],
      "text/plain": [
       "LinearRegression()"
      ]
     },
     "execution_count": 16,
     "metadata": {},
     "output_type": "execute_result"
    }
   ],
   "source": [
    "from sklearn.linear_model import LinearRegression\n",
    "\n",
    "model=LinearRegression()\n",
    "model.fit(X_train, y_train)"
   ]
  },
  {
   "cell_type": "code",
   "execution_count": 17,
   "id": "8146bb22-b686-4e9d-8608-5e396d01934e",
   "metadata": {
    "scrolled": true
   },
   "outputs": [
    {
     "data": {
      "text/plain": [
       "array([5.32277199, 5.10799428, 5.63398409, 5.4212652 , 5.73318005,\n",
       "       5.29214355, 5.09439655, 5.12883142, 5.75722841, 5.74297402,\n",
       "       6.09020634, 5.31865873, 5.51907369, 5.2144024 , 5.45819862,\n",
       "       6.42479817, 5.17921614, 5.5899701 , 6.54010284, 5.25415011,\n",
       "       5.41095362, 5.19423368, 5.98498614, 6.31695722, 5.35148069,\n",
       "       5.53107311, 6.37115675, 5.41174158, 5.20466714, 6.23049008,\n",
       "       5.26885527, 5.59298366, 5.80060344, 5.33350055, 5.49681412,\n",
       "       5.01110897, 6.23888074, 5.75723158, 5.55221375, 6.15984644,\n",
       "       5.44838088, 5.22448651, 6.11272652, 5.1572054 , 5.84104094,\n",
       "       5.79713653, 6.44337011, 5.52405641, 5.13886959, 5.53851367,\n",
       "       5.22330874, 5.11674917, 5.55963591, 6.44711431, 5.12279213,\n",
       "       5.01875699, 6.01069377, 5.49750409, 5.8312663 , 5.38485343,\n",
       "       5.56796516, 5.91881858, 5.31716023, 5.40387316, 6.40516289,\n",
       "       5.48286614, 6.33328223, 5.4646447 , 6.53954856, 5.36784393,\n",
       "       6.42857072, 4.75188696, 5.81266466, 5.83210447, 6.14779237,\n",
       "       5.21147925, 6.73898891, 5.91805447, 6.13934296, 6.48257987,\n",
       "       5.50203668, 6.41917182, 5.3837464 , 5.72616691, 5.66089455,\n",
       "       6.22762926, 5.38264132, 5.88596903, 6.29451029, 5.32208807,\n",
       "       5.99524968, 5.67730926, 5.95141408, 5.86555148, 5.33432829,\n",
       "       5.73201623, 5.16944848, 5.59844764, 5.01548007, 5.47752413,\n",
       "       5.11974098, 5.15067854, 5.74705481, 5.72318738, 5.33102156,\n",
       "       6.15117224, 5.64668966, 5.38200344, 6.09358618, 5.23662865,\n",
       "       6.81936012, 5.18035701, 6.06608756, 4.73980762, 5.75566364,\n",
       "       5.84013526, 6.14355584, 5.51623657, 5.11148577, 5.79787075,\n",
       "       6.20667412, 5.26071529, 5.78467668, 5.39731831, 5.42297063,\n",
       "       5.22483458, 6.11789045, 5.66901625, 5.79563675, 5.809958  ,\n",
       "       5.81266466, 5.19852206, 5.13314371, 6.3231696 , 5.53851367,\n",
       "       5.11451591, 4.98383056, 5.20281159, 5.05278712, 5.65291634,\n",
       "       5.8823559 , 6.18461811, 6.20018444, 5.54452519, 5.83250186,\n",
       "       5.24701888, 6.04112045, 5.40436297, 6.04101321, 5.10294653,\n",
       "       5.66744592, 6.20397753, 5.12793586, 5.70506267, 5.81266466,\n",
       "       6.16149936, 5.41473974, 5.9564322 , 5.49337289, 5.94271239,\n",
       "       6.20430277, 5.69537754, 6.02636134, 4.96534392, 5.31884921,\n",
       "       5.59345114, 4.69160717, 5.23210819, 5.01043724, 5.1391627 ,\n",
       "       5.13327388, 5.09720082, 6.2208085 , 5.42446655, 5.72673389,\n",
       "       5.84479228, 5.99894758, 5.40539376, 5.41390076, 5.31836438,\n",
       "       4.74222324, 6.30438018, 5.5267872 , 6.44020357, 5.24421989,\n",
       "       6.36429099, 5.46795394, 5.64777735, 6.70115994, 5.42446655,\n",
       "       5.41762848, 6.02703945, 5.58305322, 6.40103713, 5.7181603 ,\n",
       "       5.30159569, 4.95949817, 5.43261381, 5.49045357, 6.15117224,\n",
       "       5.46613975, 5.68092708, 5.59567587, 5.09214317, 6.59462371,\n",
       "       5.61575412, 4.69965668, 5.62364527, 5.73451549, 5.94149304,\n",
       "       6.10888983, 5.03977555, 5.84064843, 6.42417676, 6.31323724,\n",
       "       5.75731911, 5.40953198, 5.12224821, 5.83608898, 5.44230487,\n",
       "       5.09338082, 6.28451007, 6.2610791 , 6.06687938, 5.1766061 ,\n",
       "       4.78898266, 5.23547274, 6.4626694 , 5.37186773, 5.43126723,\n",
       "       5.5247847 , 5.04893649, 6.35118304, 5.99951509, 5.86690487,\n",
       "       6.15117224, 5.33219557, 5.66089455, 4.8608562 , 5.05337014,\n",
       "       5.61016048, 5.03766305, 5.80244691, 6.22307571, 5.28449656,\n",
       "       5.54299574, 6.00548275, 5.43741959, 6.52688259, 5.08117645,\n",
       "       5.70504409, 5.64270412, 5.29593244, 5.47569033, 5.25317643,\n",
       "       5.27056548, 5.3637935 , 5.87276315, 5.72327505, 6.85801321,\n",
       "       6.17224311, 6.02428218, 5.40539376, 6.50356565, 5.9167265 ,\n",
       "       6.2454298 , 5.07719995, 5.12520166, 5.88038685, 6.36424787,\n",
       "       4.97192466, 5.71351676, 5.39151406, 5.14556402, 5.30615216,\n",
       "       5.58501795, 5.58215941, 6.13502384, 6.28028453, 5.34051664,\n",
       "       6.47261352, 5.00790899, 5.37373949, 5.52527104, 5.33268504,\n",
       "       5.77327337, 4.97290478, 6.18461811, 5.11955058, 5.9745034 ,\n",
       "       5.49967586, 6.48124229, 5.5355568 , 5.43460198, 4.99955887,\n",
       "       6.23074816, 5.14641578, 6.23218235, 6.18773457, 6.45562611,\n",
       "       5.38629534, 5.24965065, 6.28235726, 5.33627665, 5.27823249,\n",
       "       5.37948626, 5.82592359, 5.80700785, 6.15288597, 6.64279859,\n",
       "       5.51800243, 5.56866494, 5.54227245, 5.53877643, 5.33350055,\n",
       "       5.69586807, 4.98321515, 5.23098764, 6.16758165, 5.17799951])"
      ]
     },
     "execution_count": 17,
     "metadata": {},
     "output_type": "execute_result"
    }
   ],
   "source": [
    "predictions=model.predict(X_test)\n",
    "predictions"
   ]
  },
  {
   "cell_type": "code",
   "execution_count": 18,
   "id": "8c2cbbfb-9976-47ef-aeba-cf45e22e5a59",
   "metadata": {},
   "outputs": [
    {
     "name": "stdout",
     "output_type": "stream",
     "text": [
      "Predictions: \n",
      "[5.32277199]\n"
     ]
    }
   ],
   "source": [
    "print(\"Predictions: \")\n",
    "print(model.predict([X_test.values[0]]))"
   ]
  },
  {
   "cell_type": "code",
   "execution_count": 19,
   "id": "d870adf0-9daa-4daf-90aa-b79295727250",
   "metadata": {},
   "outputs": [
    {
     "name": "stdout",
     "output_type": "stream",
     "text": [
      "Predictions: \n"
     ]
    },
    {
     "data": {
      "text/plain": [
       "array([9.71628747])"
      ]
     },
     "execution_count": 19,
     "metadata": {},
     "output_type": "execute_result"
    }
   ],
   "source": [
    "print(\"Predictions: \")\n",
    "model.predict([[5,4,2,3,1,2]])"
   ]
  },
  {
   "cell_type": "code",
   "execution_count": 20,
   "id": "122258f8-532e-43ff-9daf-818e408df61e",
   "metadata": {},
   "outputs": [
    {
     "data": {
      "text/html": [
       "<div>\n",
       "<style scoped>\n",
       "    .dataframe tbody tr th:only-of-type {\n",
       "        vertical-align: middle;\n",
       "    }\n",
       "\n",
       "    .dataframe tbody tr th {\n",
       "        vertical-align: top;\n",
       "    }\n",
       "\n",
       "    .dataframe thead th {\n",
       "        text-align: right;\n",
       "    }\n",
       "</style>\n",
       "<table border=\"1\" class=\"dataframe\">\n",
       "  <thead>\n",
       "    <tr style=\"text-align: right;\">\n",
       "      <th></th>\n",
       "      <th>Y_test</th>\n",
       "      <th>Predictions</th>\n",
       "      <th>Residual</th>\n",
       "    </tr>\n",
       "  </thead>\n",
       "  <tbody>\n",
       "    <tr>\n",
       "      <th>0</th>\n",
       "      <td>6</td>\n",
       "      <td>5.322772</td>\n",
       "      <td>0.677228</td>\n",
       "    </tr>\n",
       "    <tr>\n",
       "      <th>1</th>\n",
       "      <td>5</td>\n",
       "      <td>5.107994</td>\n",
       "      <td>-0.107994</td>\n",
       "    </tr>\n",
       "    <tr>\n",
       "      <th>2</th>\n",
       "      <td>6</td>\n",
       "      <td>5.633984</td>\n",
       "      <td>0.366016</td>\n",
       "    </tr>\n",
       "    <tr>\n",
       "      <th>3</th>\n",
       "      <td>5</td>\n",
       "      <td>5.421265</td>\n",
       "      <td>-0.421265</td>\n",
       "    </tr>\n",
       "    <tr>\n",
       "      <th>4</th>\n",
       "      <td>6</td>\n",
       "      <td>5.733180</td>\n",
       "      <td>0.266820</td>\n",
       "    </tr>\n",
       "    <tr>\n",
       "      <th>...</th>\n",
       "      <td>...</td>\n",
       "      <td>...</td>\n",
       "      <td>...</td>\n",
       "    </tr>\n",
       "    <tr>\n",
       "      <th>315</th>\n",
       "      <td>6</td>\n",
       "      <td>5.695868</td>\n",
       "      <td>0.304132</td>\n",
       "    </tr>\n",
       "    <tr>\n",
       "      <th>316</th>\n",
       "      <td>5</td>\n",
       "      <td>4.983215</td>\n",
       "      <td>0.016785</td>\n",
       "    </tr>\n",
       "    <tr>\n",
       "      <th>317</th>\n",
       "      <td>5</td>\n",
       "      <td>5.230988</td>\n",
       "      <td>-0.230988</td>\n",
       "    </tr>\n",
       "    <tr>\n",
       "      <th>318</th>\n",
       "      <td>6</td>\n",
       "      <td>6.167582</td>\n",
       "      <td>-0.167582</td>\n",
       "    </tr>\n",
       "    <tr>\n",
       "      <th>319</th>\n",
       "      <td>4</td>\n",
       "      <td>5.178000</td>\n",
       "      <td>-1.178000</td>\n",
       "    </tr>\n",
       "  </tbody>\n",
       "</table>\n",
       "<p>320 rows × 3 columns</p>\n",
       "</div>"
      ],
      "text/plain": [
       "     Y_test  Predictions  Residual\n",
       "0         6     5.322772  0.677228\n",
       "1         5     5.107994 -0.107994\n",
       "2         6     5.633984  0.366016\n",
       "3         5     5.421265 -0.421265\n",
       "4         6     5.733180  0.266820\n",
       "..      ...          ...       ...\n",
       "315       6     5.695868  0.304132\n",
       "316       5     4.983215  0.016785\n",
       "317       5     5.230988 -0.230988\n",
       "318       6     6.167582 -0.167582\n",
       "319       4     5.178000 -1.178000\n",
       "\n",
       "[320 rows x 3 columns]"
      ]
     },
     "execution_count": 20,
     "metadata": {},
     "output_type": "execute_result"
    }
   ],
   "source": [
    "actual_pred=pd.DataFrame(zip(y_test,predictions),columns=['Y_test','Predictions'])\n",
    "actual_pred\n",
    "\n",
    "# Create one more column error or residual ; Actaul-predictions\n",
    "residul=[i-j for i,j in zip(actual_pred['Y_test'],actual_pred['Predictions'])]\n",
    "actual_pred['Residual']=residul\n",
    "actual_pred\n"
   ]
  },
  {
   "cell_type": "code",
   "execution_count": 22,
   "id": "664eac0b-1f0e-471b-8d85-7c85955598d2",
   "metadata": {},
   "outputs": [
    {
     "name": "stdout",
     "output_type": "stream",
     "text": [
      "MAE: 0.5076908187434974\n",
      "MSE: 0.3951208143938267\n",
      "RMSE: 0.6285863619215952\n",
      "R-squared: 0.3953829047964278\n"
     ]
    }
   ],
   "source": [
    "from sklearn.metrics import mean_absolute_error, mean_squared_error, r2_score\n",
    "import numpy as np\n",
    "mae = mean_absolute_error(y_test, predictions)\n",
    "mse = mean_squared_error(y_test, predictions)\n",
    "rmse = np.sqrt(mse)\n",
    "r2 = r2_score(y_test, predictions)\n",
    "\n",
    "print(f'MAE: {mae}')\n",
    "print(f'MSE: {mse}')\n",
    "print(f'RMSE: {rmse}')\n",
    "print(f'R-squared: {r2}')\n"
   ]
  },
  {
   "cell_type": "code",
   "execution_count": 23,
   "id": "005fb9ad-5df1-4061-b393-29d284151cf7",
   "metadata": {},
   "outputs": [
    {
     "data": {
      "image/png": "[encoded data removed]",
      "text/plain": [
       "<Figure size 640x480 with 1 Axes>"
      ]
     },
     "metadata": {},
     "output_type": "display_data"
    }
   ],
   "source": [
    "import matplotlib.pyplot as plt\n",
    "\n",
    "preds = model.predict(X_train)\n",
    "residuals = y_train - preds\n",
    "\n",
    "plt.scatter(preds, residuals)\n",
    "plt.xlabel(\"Predicted values\")\n",
    "plt.ylabel(\"Residuals\")\n",
    "plt.title(\"Residuals vs. Predicted values\")\n",
    "plt.show()"
   ]
  },
  {
   "cell_type": "code",
   "execution_count": 24,
   "id": "942f61fe-8afd-4c1f-b600-3274443e81a1",
   "metadata": {},
   "outputs": [
    {
     "name": "stdout",
     "output_type": "stream",
     "text": [
      "Durbin-Watson statistics: 2.0\n"
     ]
    }
   ],
   "source": [
    "from statsmodels.stats.stattools import durbin_watson\n",
    "dw_stat=round(durbin_watson(residuals),2)\n",
    "print(f\"Durbin-Watson statistics: {dw_stat}\")"
   ]
  },
  {
   "cell_type": "code",
   "execution_count": 25,
   "id": "349c388e-27ca-4145-89ae-71ed544fad72",
   "metadata": {},
   "outputs": [
    {
     "data": {
      "image/png": "[encoded data removed]",
      "text/plain": [
       "<Figure size 640x480 with 1 Axes>"
      ]
     },
     "metadata": {},
     "output_type": "display_data"
    }
   ],
   "source": [
    "import scipy.stats as stats\n",
    "\n",
    "plt.hist(residuals,bins=30)\n",
    "plt.xlabel(\"Residuals\")\n",
    "plt.ylabel(\"Frequency\")\n",
    "plt.title(\"Histogram of Residuals\")\n",
    "plt.show()"
   ]
  },
  {
   "cell_type": "code",
   "execution_count": 26,
   "id": "ea2a47e5-8ce5-4a8f-b190-884aab43b2c1",
   "metadata": {},
   "outputs": [
    {
     "data": {
      "image/png": "[encoded data removed]",
      "text/plain": [
       "<Figure size 640x480 with 1 Axes>"
      ]
     },
     "metadata": {},
     "output_type": "display_data"
    }
   ],
   "source": [
    "stats.probplot(residuals,dist=\"norm\", plot=plt)\n",
    "plt.show()"
   ]
  },
  {
   "cell_type": "code",
   "execution_count": 27,
   "id": "dff9534d-2811-4021-b26b-5373a1424129",
   "metadata": {},
   "outputs": [
    {
     "data": {
      "text/plain": [
       "array([-1.06682647e+00, -1.66587038e+00, -2.50976926e-03,  8.66486694e+00,\n",
       "        8.53907014e-01,  2.83134596e-01])"
      ]
     },
     "execution_count": 27,
     "metadata": {},
     "output_type": "execute_result"
    }
   ],
   "source": [
    "model.coef_"
   ]
  },
  {
   "cell_type": "code",
   "execution_count": 28,
   "id": "d618e8ef-2496-4d94-be24-c856be187478",
   "metadata": {},
   "outputs": [
    {
     "data": {
      "text/plain": [
       "-5.695856152055808"
      ]
     },
     "execution_count": 28,
     "metadata": {},
     "output_type": "execute_result"
    }
   ],
   "source": [
    "model.intercept_"
   ]
  },
  {
   "cell_type": "code",
   "execution_count": 29,
   "id": "d984bc09-d8a2-4a3c-a734-c87dc92f6526",
   "metadata": {},
   "outputs": [
    {
     "data": {
      "text/plain": [
       "array(['volatile acidity', 'chlorides', 'total sulfur dioxide', 'density',\n",
       "       'sulphates', 'alcohol'], dtype=object)"
      ]
     },
     "execution_count": 29,
     "metadata": {},
     "output_type": "execute_result"
    }
   ],
   "source": [
    "model.feature_names_in_"
   ]
  },
  {
   "cell_type": "code",
   "execution_count": 30,
   "id": "0e202df5-81b8-4a2b-99e4-ca9ddf9ab23c",
   "metadata": {},
   "outputs": [
    {
     "data": {
      "text/plain": [
       "array([ 0.56  ,  0.114 , 46.    ,  0.9971,  0.66  ,  9.6   ])"
      ]
     },
     "execution_count": 30,
     "metadata": {},
     "output_type": "execute_result"
    }
   ],
   "source": [
    "X_test.values[0]"
   ]
  },
  {
   "cell_type": "code",
   "execution_count": 31,
   "id": "076acffd-ce87-4edb-b742-6cedd16f23fc",
   "metadata": {},
   "outputs": [
    {
     "data": {
      "image/png": "[encoded data removed]",
      "text/plain": [
       "<Figure size 1000x800 with 2 Axes>"
      ]
     },
     "metadata": {},
     "output_type": "display_data"
    }
   ],
   "source": [
    "import seaborn as sns\n",
    "import matplotlib.pyplot as plt\n",
    "plt.figure(figsize=(10,8))\n",
    "sns.heatmap(df.corr(),annot=True)\n",
    "plt.show()"
   ]
  },
  {
   "cell_type": "code",
   "execution_count": 32,
   "id": "1c72f192-eb5d-4383-b2e4-eea37c48b00d",
   "metadata": {},
   "outputs": [
    {
     "data": {
      "text/plain": [
       "array([5.32277199])"
      ]
     },
     "execution_count": 32,
     "metadata": {},
     "output_type": "execute_result"
    }
   ],
   "source": [
    "import warnings\n",
    "warnings.filterwarnings(\"ignore\")\n",
    "model.predict([X_test.values[0]])"
   ]
  },
  {
   "cell_type": "code",
   "execution_count": 33,
   "id": "dd7e4f3a-a191-405b-8fcd-11546e80040a",
   "metadata": {},
   "outputs": [
    {
     "name": "stdout",
     "output_type": "stream",
     "text": [
      "[WinError 183] Cannot create a file when that file already exists: 'C:\\\\Users\\\\Nishitha T\\\\OneDrive\\\\Documents\\\\NareshIT\\\\ML\\\\Wine_Analysis\\\\wine_models'\n"
     ]
    }
   ],
   "source": [
    "import os\n",
    "try:\n",
    "    directory= os.getcwd()\n",
    "    folder_name='wine_models'\n",
    "    path=os.path.join(directory,folder_name)\n",
    "    os.makedirs(path) \n",
    "except Exception as e:\n",
    "    print(e)"
   ]
  },
  {
   "cell_type": "code",
   "execution_count": 34,
   "id": "e2b9e41c-0e1a-42eb-8339-81965e8af3e1",
   "metadata": {},
   "outputs": [],
   "source": [
    "import pickle\n",
    "pickle.dump(model,\n",
    "            open(f'{path}\\\\wine_quality_model.pkl','wb'))"
   ]
  },
  {
   "cell_type": "code",
   "execution_count": 35,
   "id": "02539bea-0968-4389-a618-8014bb72e7ed",
   "metadata": {},
   "outputs": [
    {
     "data": {
      "text/plain": [
       "'C:\\\\Users\\\\Nishitha T\\\\OneDrive\\\\Documents\\\\NareshIT\\\\ML\\\\Wine_Analysis\\\\wine_models\\\\wine_quality_model.pkl'"
      ]
     },
     "execution_count": 35,
     "metadata": {},
     "output_type": "execute_result"
    }
   ],
   "source": [
    "f'{path}\\\\wine_quality_model.pkl'"
   ]
  },
  {
   "cell_type": "code",
   "execution_count": 36,
   "id": "b5a80202-4194-479a-9506-7c8b3ded6dcb",
   "metadata": {},
   "outputs": [
    {
     "data": {
      "text/html": [
       "<style>#sk-container-id-2 {color: black;background-color: white;}#sk-container-id-2 pre{padding: 0;}#sk-container-id-2 div.sk-toggleable {background-color: white;}#sk-container-id-2 label.sk-toggleable__label {cursor: pointer;display: block;width: 100%;margin-bottom: 0;padding: 0.3em;box-sizing: border-box;text-align: center;}#sk-container-id-2 label.sk-toggleable__label-arrow:before {content: \"▸\";float: left;margin-right: 0.25em;color: #696969;}#sk-container-id-2 label.sk-toggleable__label-arrow:hover:before {color: black;}#sk-container-id-2 div.sk-estimator:hover label.sk-toggleable__label-arrow:before {color: black;}#sk-container-id-2 div.sk-toggleable__content {max-height: 0;max-width: 0;overflow: hidden;text-align: left;background-color: #f0f8ff;}#sk-container-id-2 div.sk-toggleable__content pre {margin: 0.2em;color: black;border-radius: 0.25em;background-color: #f0f8ff;}#sk-container-id-2 input.sk-toggleable__control:checked~div.sk-toggleable__content {max-height: 200px;max-width: 100%;overflow: auto;}#sk-container-id-2 input.sk-toggleable__control:checked~label.sk-toggleable__label-arrow:before {content: \"▾\";}#sk-container-id-2 div.sk-estimator input.sk-toggleable__control:checked~label.sk-toggleable__label {background-color: #d4ebff;}#sk-container-id-2 div.sk-label input.sk-toggleable__control:checked~label.sk-toggleable__label {background-color: #d4ebff;}#sk-container-id-2 input.sk-hidden--visually {border: 0;clip: rect(1px 1px 1px 1px);clip: rect(1px, 1px, 1px, 1px);height: 1px;margin: -1px;overflow: hidden;padding: 0;position: absolute;width: 1px;}#sk-container-id-2 div.sk-estimator {font-family: monospace;background-color: #f0f8ff;border: 1px dotted black;border-radius: 0.25em;box-sizing: border-box;margin-bottom: 0.5em;}#sk-container-id-2 div.sk-estimator:hover {background-color: #d4ebff;}#sk-container-id-2 div.sk-parallel-item::after {content: \"\";width: 100%;border-bottom: 1px solid gray;flex-grow: 1;}#sk-container-id-2 div.sk-label:hover label.sk-toggleable__label {background-color: #d4ebff;}#sk-container-id-2 div.sk-serial::before {content: \"\";position: absolute;border-left: 1px solid gray;box-sizing: border-box;top: 0;bottom: 0;left: 50%;z-index: 0;}#sk-container-id-2 div.sk-serial {display: flex;flex-direction: column;align-items: center;background-color: white;padding-right: 0.2em;padding-left: 0.2em;position: relative;}#sk-container-id-2 div.sk-item {position: relative;z-index: 1;}#sk-container-id-2 div.sk-parallel {display: flex;align-items: stretch;justify-content: center;background-color: white;position: relative;}#sk-container-id-2 div.sk-item::before, #sk-container-id-2 div.sk-parallel-item::before {content: \"\";position: absolute;border-left: 1px solid gray;box-sizing: border-box;top: 0;bottom: 0;left: 50%;z-index: -1;}#sk-container-id-2 div.sk-parallel-item {display: flex;flex-direction: column;z-index: 1;position: relative;background-color: white;}#sk-container-id-2 div.sk-parallel-item:first-child::after {align-self: flex-end;width: 50%;}#sk-container-id-2 div.sk-parallel-item:last-child::after {align-self: flex-start;width: 50%;}#sk-container-id-2 div.sk-parallel-item:only-child::after {width: 0;}#sk-container-id-2 div.sk-dashed-wrapped {border: 1px dashed gray;margin: 0 0.4em 0.5em 0.4em;box-sizing: border-box;padding-bottom: 0.4em;background-color: white;}#sk-container-id-2 div.sk-label label {font-family: monospace;font-weight: bold;display: inline-block;line-height: 1.2em;}#sk-container-id-2 div.sk-label-container {text-align: center;}#sk-container-id-2 div.sk-container {/* jupyter's `normalize.less` sets `[hidden] { display: none; }` but bootstrap.min.css set `[hidden] { display: none !important; }` so we also need the `!important` here to be able to override the default hidden behavior on the sphinx rendered scikit-learn.org. See: https://github.com/scikit-learn/scikit-learn/issues/21755 */display: inline-block !important;position: relative;}#sk-container-id-2 div.sk-text-repr-fallback {display: none;}</style><div id=\"sk-container-id-2\" class=\"sk-top-container\"><div class=\"sk-text-repr-fallback\"><pre>LinearRegression()</pre><b>In a Jupyter environment, please rerun this cell to show the HTML representation or trust the notebook. <br />On GitHub, the HTML representation is unable to render, please try loading this page with nbviewer.org.</b></div><div class=\"sk-container\" hidden><div class=\"sk-item\"><div class=\"sk-estimator sk-toggleable\"><input class=\"sk-toggleable__control sk-hidden--visually\" id=\"sk-estimator-id-2\" type=\"checkbox\" checked><label for=\"sk-estimator-id-2\" class=\"sk-toggleable__label sk-toggleable__label-arrow\">LinearRegression</label><div class=\"sk-toggleable__content\"><pre>LinearRegression()</pre></div></div></div></div></div>"
      ],
      "text/plain": [
       "LinearRegression()"
      ]
     },
     "execution_count": 36,
     "metadata": {},
     "output_type": "execute_result"
    }
   ],
   "source": [
    "model = pickle.load(open(f'{path}\\\\wine_quality_model.pkl','rb'))\n",
    "model"
   ]
  },
  {
   "cell_type": "code",
   "execution_count": 37,
   "id": "0f3aea4f-ddf7-4a74-92c5-9d5ed676504b",
   "metadata": {},
   "outputs": [
    {
     "data": {
      "text/plain": [
       "array([30.52585771, 37.59255964])"
      ]
     },
     "execution_count": 37,
     "metadata": {},
     "output_type": "execute_result"
    }
   ],
   "source": [
    "model.predict([[1,2,3,4,5,6],\n",
    "              [2,3,4,5,6,7]])"
   ]
  },
  {
   "cell_type": "code",
   "execution_count": 38,
   "id": "51ba3a43-d229-429c-8eef-02e4b82dc862",
   "metadata": {},
   "outputs": [
    {
     "name": "stdout",
     "output_type": "stream",
     "text": [
      "Predictions: [5.32277199 5.10799428 5.63398409 5.4212652  5.73318005 5.29214355\n",
      " 5.09439655 5.12883142 5.75722841 5.74297402 6.09020634 5.31865873\n",
      " 5.51907369 5.2144024  5.45819862 6.42479817 5.17921614 5.5899701\n",
      " 6.54010284 5.25415011 5.41095362 5.19423368 5.98498614 6.31695722\n",
      " 5.35148069 5.53107311 6.37115675 5.41174158 5.20466714 6.23049008\n",
      " 5.26885527 5.59298366 5.80060344 5.33350055 5.49681412 5.01110897\n",
      " 6.23888074 5.75723158 5.55221375 6.15984644 5.44838088 5.22448651\n",
      " 6.11272652 5.1572054  5.84104094 5.79713653 6.44337011 5.52405641\n",
      " 5.13886959 5.53851367 5.22330874 5.11674917 5.55963591 6.44711431\n",
      " 5.12279213 5.01875699 6.01069377 5.49750409 5.8312663  5.38485343\n",
      " 5.56796516 5.91881858 5.31716023 5.40387316 6.40516289 5.48286614\n",
      " 6.33328223 5.4646447  6.53954856 5.36784393 6.42857072 4.75188696\n",
      " 5.81266466 5.83210447 6.14779237 5.21147925 6.73898891 5.91805447\n",
      " 6.13934296 6.48257987 5.50203668 6.41917182 5.3837464  5.72616691\n",
      " 5.66089455 6.22762926 5.38264132 5.88596903 6.29451029 5.32208807\n",
      " 5.99524968 5.67730926 5.95141408 5.86555148 5.33432829 5.73201623\n",
      " 5.16944848 5.59844764 5.01548007 5.47752413 5.11974098 5.15067854\n",
      " 5.74705481 5.72318738 5.33102156 6.15117224 5.64668966 5.38200344\n",
      " 6.09358618 5.23662865 6.81936012 5.18035701 6.06608756 4.73980762\n",
      " 5.75566364 5.84013526 6.14355584 5.51623657 5.11148577 5.79787075\n",
      " 6.20667412 5.26071529 5.78467668 5.39731831 5.42297063 5.22483458\n",
      " 6.11789045 5.66901625 5.79563675 5.809958   5.81266466 5.19852206\n",
      " 5.13314371 6.3231696  5.53851367 5.11451591 4.98383056 5.20281159\n",
      " 5.05278712 5.65291634 5.8823559  6.18461811 6.20018444 5.54452519\n",
      " 5.83250186 5.24701888 6.04112045 5.40436297 6.04101321 5.10294653\n",
      " 5.66744592 6.20397753 5.12793586 5.70506267 5.81266466 6.16149936\n",
      " 5.41473974 5.9564322  5.49337289 5.94271239 6.20430277 5.69537754\n",
      " 6.02636134 4.96534392 5.31884921 5.59345114 4.69160717 5.23210819\n",
      " 5.01043724 5.1391627  5.13327388 5.09720082 6.2208085  5.42446655\n",
      " 5.72673389 5.84479228 5.99894758 5.40539376 5.41390076 5.31836438\n",
      " 4.74222324 6.30438018 5.5267872  6.44020357 5.24421989 6.36429099\n",
      " 5.46795394 5.64777735 6.70115994 5.42446655 5.41762848 6.02703945\n",
      " 5.58305322 6.40103713 5.7181603  5.30159569 4.95949817 5.43261381\n",
      " 5.49045357 6.15117224 5.46613975 5.68092708 5.59567587 5.09214317\n",
      " 6.59462371 5.61575412 4.69965668 5.62364527 5.73451549 5.94149304\n",
      " 6.10888983 5.03977555 5.84064843 6.42417676 6.31323724 5.75731911\n",
      " 5.40953198 5.12224821 5.83608898 5.44230487 5.09338082 6.28451007\n",
      " 6.2610791  6.06687938 5.1766061  4.78898266 5.23547274 6.4626694\n",
      " 5.37186773 5.43126723 5.5247847  5.04893649 6.35118304 5.99951509\n",
      " 5.86690487 6.15117224 5.33219557 5.66089455 4.8608562  5.05337014\n",
      " 5.61016048 5.03766305 5.80244691 6.22307571 5.28449656 5.54299574\n",
      " 6.00548275 5.43741959 6.52688259 5.08117645 5.70504409 5.64270412\n",
      " 5.29593244 5.47569033 5.25317643 5.27056548 5.3637935  5.87276315\n",
      " 5.72327505 6.85801321 6.17224311 6.02428218 5.40539376 6.50356565\n",
      " 5.9167265  6.2454298  5.07719995 5.12520166 5.88038685 6.36424787\n",
      " 4.97192466 5.71351676 5.39151406 5.14556402 5.30615216 5.58501795\n",
      " 5.58215941 6.13502384 6.28028453 5.34051664 6.47261352 5.00790899\n",
      " 5.37373949 5.52527104 5.33268504 5.77327337 4.97290478 6.18461811\n",
      " 5.11955058 5.9745034  5.49967586 6.48124229 5.5355568  5.43460198\n",
      " 4.99955887 6.23074816 5.14641578 6.23218235 6.18773457 6.45562611\n",
      " 5.38629534 5.24965065 6.28235726 5.33627665 5.27823249 5.37948626\n",
      " 5.82592359 5.80700785 6.15288597 6.64279859 5.51800243 5.56866494\n",
      " 5.54227245 5.53877643 5.33350055 5.69586807 4.98321515 5.23098764\n",
      " 6.16758165 5.17799951]\n"
     ]
    }
   ],
   "source": [
    "import joblib\n",
    "\n",
    "joblib.dump(model, f'{path}\\\\wine_quality_model.joblib')\n",
    "\n",
    "saved_model = joblib.load(f'{path}\\\\wine_quality_model.joblib')\n",
    "\n",
    "y_pred = saved_model.predict(X_test)\n",
    "\n",
    "print(\"Predictions:\", y_pred)\n"
   ]
  },
  {
   "cell_type": "code",
   "execution_count": null,
   "id": "f0a232f5-30c4-402f-b19e-63d1ef004859",
   "metadata": {},
   "outputs": [],
   "source": []
  }
 ],
 "metadata": {
  "kernelspec": {
   "display_name": "Python 3 (ipykernel)",
   "language": "python",
   "name": "python3"
  },
  "language_info": {
   "codemirror_mode": {
    "name": "ipython",
    "version": 3
   },
   "file_extension": ".py",
   "mimetype": "text/x-python",
   "name": "python",
   "nbconvert_exporter": "python",
   "pygments_lexer": "ipython3",
   "version": "3.11.7"
  }
 },
 "nbformat": 4,
 "nbformat_minor": 5
}

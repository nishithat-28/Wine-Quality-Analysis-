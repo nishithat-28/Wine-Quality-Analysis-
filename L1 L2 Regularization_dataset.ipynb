{
 "cells": [
  {
   "cell_type": "markdown",
   "id": "836e579a-226d-4087-877a-81d572ffc6ab",
   "metadata": {},
   "source": [
    "## **Lasso Regression**"
   ]
  },
  {
   "cell_type": "code",
   "execution_count": 4,
   "id": "bf49a4f0-18d2-44be-a863-b49c55cec7e3",
   "metadata": {},
   "outputs": [
    {
     "name": "stdout",
     "output_type": "stream",
     "text": [
      "Mean Squared Error: 0.49867516307458876\n"
     ]
    }
   ],
   "source": [
    "import pandas as pd\n",
    "import numpy as np\n",
    "from sklearn.model_selection import train_test_split\n",
    "from sklearn.linear_model import Lasso,Ridge,ElasticNet\n",
    "from sklearn.metrics import mean_squared_error\n",
    "\n",
    "df=pd.read_csv(r\"C:\\Users\\Nishitha T\\OneDrive\\Documents\\NareshIT\\Data Files\\winequality_red.csv\")\n",
    "X=df.drop('quality',axis=1)\n",
    "y=df['quality']\n",
    "\n",
    "X_train,X_test,y_train,y_test=train_test_split(X,y,test_size=0.2,random_state=42)\n",
    "\n",
    "lasso_reg=Lasso(alpha=0.1)\n",
    "lasso_reg.fit(X_train,y_train)\n",
    "\n",
    "y_pred=lasso_reg.predict(X_test)\n",
    "\n",
    "mse=mean_squared_error(y_test,y_pred)\n",
    "print(\"Mean Squared Error:\",mse)"
   ]
  },
  {
   "cell_type": "markdown",
   "id": "f226446f-56f3-4d93-872e-2bf676b4ade4",
   "metadata": {},
   "source": [
    "## **Ridge Regression**"
   ]
  },
  {
   "cell_type": "code",
   "execution_count": 5,
   "id": "103fbe15-d11a-41e8-b53b-26d814b8b4be",
   "metadata": {},
   "outputs": [
    {
     "name": "stdout",
     "output_type": "stream",
     "text": [
      "Mean Squared Error: 0.39079450472195915\n"
     ]
    }
   ],
   "source": [
    "ridge_reg=Ridge(alpha=0.1)\n",
    "ridge_reg.fit(X_train,y_train)\n",
    "\n",
    "y_pred=ridge_reg.predict(X_test)\n",
    "\n",
    "mse=mean_squared_error(y_test,y_pred)\n",
    "print(\"Mean Squared Error:\",mse)"
   ]
  },
  {
   "cell_type": "markdown",
   "id": "05c6393f-df1e-462e-bce6-53f6c3bf86ab",
   "metadata": {},
   "source": [
    "## **Elastic Regression**\n",
    "\n",
    "- Elastic Net regression is a regularization technique that combines L1 and L2 regularization penalities in order to achieve a balance between the benefits of each\n",
    "- In Elastic Net, the cost function is a combination of L1 and L2 regularization terms:\n",
    "- Alpha is the regularization strength parameter (similar to lambda in equation above),\n",
    " controlling the overall strength of the regularization\n",
    "- The l1_ratio parameter controls the balance between L1 and L2 penalties\n",
    "- A l1_ratio of 1 corresponds to Lasso regression, and a l1_ratio of 0 corresponds to Ridge regression\n",
    "- Adjuting these hyperparameters allow you to fine-tune the Elastic Net regression model to your specific dataset"
   ]
  },
  {
   "cell_type": "code",
   "execution_count": 6,
   "id": "fab711c6-59f3-44c2-84b6-50e5581badde",
   "metadata": {},
   "outputs": [
    {
     "name": "stdout",
     "output_type": "stream",
     "text": [
      "Mean Squared Error: 0.4880295981151681\n"
     ]
    }
   ],
   "source": [
    "elastic_net=ElasticNet(alpha=0.1, l1_ratio=0.5)\n",
    "elastic_net.fit(X_train,y_train)\n",
    "\n",
    "y_pred=elastic_net.predict(X_test)\n",
    "\n",
    "mse=mean_squared_error(y_test,y_pred)\n",
    "print(\"Mean Squared Error:\",mse)"
   ]
  },
  {
   "cell_type": "code",
   "execution_count": 10,
   "id": "c0124c8a-949c-4ac3-b6b1-23a74168bfef",
   "metadata": {},
   "outputs": [
    {
     "data": {
      "image/png": "[encoded data removed]",
      "text/latex": [
       "$\\displaystyle \\int \\sqrt{\\frac{1}{\\left(x + 1\\right)^{2}}}\\, dx$"
      ],
      "text/plain": [
       "⌠                   \n",
       "⎮      __________   \n",
       "⎮     ╱    1        \n",
       "⎮    ╱  ────────  dx\n",
       "⎮   ╱          2    \n",
       "⎮ ╲╱    (x + 1)     \n",
       "⌡                   "
      ]
     },
     "execution_count": 10,
     "metadata": {},
     "output_type": "execute_result"
    }
   ],
   "source": [
    "from sympy import *\n",
    "x,y,z=symbols('x y z')\n",
    "init_printing()\n",
    "Integral(sqrt(1/pow(x+1,2)),x)"
   ]
  },
  {
   "cell_type": "code",
   "execution_count": null,
   "id": "c9299d2f-19e6-4ee2-918d-07bdb49fcc0d",
   "metadata": {},
   "outputs": [],
   "source": []
  }
 ],
 "metadata": {
  "kernelspec": {
   "display_name": "Python 3 (ipykernel)",
   "language": "python",
   "name": "python3"
  },
  "language_info": {
   "codemirror_mode": {
    "name": "ipython",
    "version": 3
   },
   "file_extension": ".py",
   "mimetype": "text/x-python",
   "name": "python",
   "nbconvert_exporter": "python",
   "pygments_lexer": "ipython3",
   "version": "3.11.7"
  }
 },
 "nbformat": 4,
 "nbformat_minor": 5
}
